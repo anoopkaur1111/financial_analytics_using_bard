{
 "cells": [
  {
   "cell_type": "code",
   "execution_count": 1,
   "id": "74d6e1cf",
   "metadata": {},
   "outputs": [],
   "source": [
    "#importing libraries\n",
    "import pprint\n",
    "import google.generativeai as palm\n",
    "import pandas as pd"
   ]
  },
  {
   "cell_type": "code",
   "execution_count": 2,
   "id": "2d368b98",
   "metadata": {},
   "outputs": [],
   "source": [
    "#add your api key here\n",
    "palm.configure(api_key='_your_key')"
   ]
  },
  {
   "cell_type": "code",
   "execution_count": 3,
   "id": "2faa0f91",
   "metadata": {},
   "outputs": [],
   "source": [
    "# We are working with Generate Text model only\n",
    "models = [m for m in palm.list_models() if 'generateText' in m.supported_generation_methods]\n",
    "model = models[0].name"
   ]
  },
  {
   "cell_type": "code",
   "execution_count": 4,
   "id": "71c1dfcc",
   "metadata": {},
   "outputs": [],
   "source": [
    "#function to call bard api and get prompt response\n",
    "def palmresponse(prompt):\n",
    "    completion = palm.generate_text(\n",
    "    model=model,\n",
    "    prompt=prompt,\n",
    "    temperature=0,\n",
    "    max_output_tokens=800)\n",
    "\n",
    "    return completion.result"
   ]
  },
  {
   "cell_type": "code",
   "execution_count": 5,
   "id": "bb8494ee",
   "metadata": {},
   "outputs": [],
   "source": [
    "# function to convert the string output to pandas dataframe\n",
    "def debtequitydf(bard):\n",
    "    import sys\n",
    "    if sys.version_info[0] < 3: \n",
    "        from StringIO import StringIO\n",
    "    else:\n",
    "        from io import StringIO\n",
    "\n",
    "    TESTDATA = StringIO(bard)\n",
    "    df = pd.read_csv(TESTDATA, sep=\"|\")\n",
    "    return df.iloc[1:,1:-1]\n"
   ]
  },
  {
   "cell_type": "code",
   "execution_count": 15,
   "id": "fdcb29bd",
   "metadata": {
    "scrolled": true
   },
   "outputs": [],
   "source": [
    "#function to generate prompt for different companies\n",
    "def bardoutcome(company):\n",
    "    #add your prompt here\n",
    "    prompt =\"based on these fields -  debt to equity ratio, trailingeps, total revenue, return on equity, ebit, \\\n",
    "    quick ratio and current ratio for \"+company + \" from 2013 to 2023  will \"+company +\" be a good company to invest in now and \\\n",
    "    how much % return and value on 1000 usd a person can get by investing in it\"\n",
    "\n",
    "    return palmresponse(prompt)\n"
   ]
  },
  {
   "cell_type": "code",
   "execution_count": 7,
   "id": "d2fcecb4",
   "metadata": {},
   "outputs": [],
   "source": [
    "#function to perform sentiment analysis\n",
    "import textblob\n",
    "def sentiment_analysis(t1):\n",
    "    blob = textblob.TextBlob(t1)\n",
    "\n",
    "    # Get the sentiment polarity of the text.\n",
    "    sentiment_polarity = blob.sentiment.polarity\n",
    "    if sentiment_polarity> 0:\n",
    "        return \"Based on sentiment analysis of the response, it looks like a positive response with polarity of \" + str(sentiment_polarity),'Yes'\n",
    "    elif sentiment_polarity < 0:\n",
    "        return \"Based on sentiment analysis of the response, it looks like a negative response with polarity of \" + str(sentiment_polarity),'No'\n",
    "    if sentiment_polarity== 0:\n",
    "        return \"Based on sentiment analysis of the response, it looks like a neutral sentiment with polarity of \" + str(sentiment_polarity),'No'\n"
   ]
  },
  {
   "cell_type": "code",
   "execution_count": 8,
   "id": "f2d720da",
   "metadata": {},
   "outputs": [],
   "source": [
    "#function to remove stopwords and generate bag of words\n",
    "import nltk\n",
    "\n",
    "def remove_stopwords(string):\n",
    "    # Create a set of stopwords.\n",
    "    stopwords = set(nltk.corpus.stopwords.words('english'))\n",
    "    # Split the string into a list of words.\n",
    "    words = string.split()\n",
    "    # Remove the stopwords from the list of words.\n",
    "    filtered_words = [word for word in words if word not in stopwords]\n",
    "    # Join the filtered words back into a string.\n",
    "    filtered_string = ' '.join(filtered_words)\n",
    "    # Return the filtered string.\n",
    "    return filtered_string"
   ]
  },
  {
   "cell_type": "code",
   "execution_count": 9,
   "id": "f09e7b2f",
   "metadata": {},
   "outputs": [],
   "source": [
    "#empty dataframe to store result\n",
    "final_data=pd.DataFrame(columns=['Company_name','bard_outcome', \"Investment_Y/N\",\"Sentiment_of_investment\",\"Latest_news\",\"sentiment_of_latest_news\",\"past_news\",\"highest_match\",\"sentiment_of_match\"],index=range(7))"
   ]
  },
  {
   "cell_type": "code",
   "execution_count": 42,
   "id": "94ccedc8",
   "metadata": {},
   "outputs": [],
   "source": [
    "\n",
    "def complete_process(company_name,dates):\n",
    "    bard_outcome=bardoutcome(company_name)\n",
    "    sentiment_bard=sentiment_analysis(bardoutcome(company_name))\n",
    "    #print(sentiment_bard)\n",
    "    prompt =\"latest wall street journal news for \"+company_name\n",
    "    t1=palmresponse(prompt)\n",
    "    #print(t1)\n",
    "    #print(\"This is the latest news only headline in wall street journal for \"+ company_name)\n",
    "    #t1=t1.split(\"**\")[1]\n",
    "    #print(t1)\n",
    "    s1,flag=sentiment_analysis(t1)\n",
    "    #print(s1)\n",
    "    \n",
    "    from io import StringIO\n",
    "    df = pd.read_csv(StringIO(palmresponse(\"pull \" + company_name +\" news from wall street journal only for these dates \" + \\\n",
    "                                           dates +  \" in tabular format\")), sep=\"|\")\n",
    "    df=df.iloc[1:,1:-1]\n",
    "    #print(df)\n",
    "    \n",
    "    from sklearn.feature_extraction.text import TfidfVectorizer\n",
    "    vectorizer = TfidfVectorizer(ngram_range=(1,2),max_features=50)\n",
    "\n",
    "    # Transform the texts into TF-IDF vectors.\n",
    "    hist_vector = vectorizer.fit_transform(df.iloc[:,1].apply(lambda x: remove_stopwords(x)))\n",
    "    #print(hist_vector)\n",
    "    #print(\"hist_vector\")\n",
    "    current_vector=vectorizer.transform(pd.Series(t1).apply(lambda x: remove_stopwords(x)))\n",
    "    #print(current_vector)\n",
    "    from sklearn.metrics.pairwise import cosine_similarity\n",
    "    cos=cosine_similarity( hist_vector,current_vector)\n",
    "    index_highest=pd.DataFrame(cos).idxmax()[0]\n",
    "    s2=sentiment_analysis(df.iloc[index_highest,2])\n",
    "    #print(index_highest)\n",
    "    #print(s2)\n",
    "    \n",
    "    return bard_outcome, flag,sentiment_bard, t1,s1,df.iloc[:,1],df.iloc[index_highest,1],s2\n",
    "\n",
    "    "
   ]
  },
  {
   "cell_type": "code",
   "execution_count": 20,
   "id": "44cd9bb5",
   "metadata": {},
   "outputs": [],
   "source": [
    "final_data.iloc[0,0]='Apple'"
   ]
  },
  {
   "cell_type": "code",
   "execution_count": 43,
   "id": "d7b5c077",
   "metadata": {
    "scrolled": true
   },
   "outputs": [],
   "source": [
    "final_data.iloc[0,1:]=complete_process('apple','August 15 2022, July 28 2023, October 30 2020, January 5 2023')"
   ]
  },
  {
   "cell_type": "code",
   "execution_count": 59,
   "id": "807ea30e",
   "metadata": {},
   "outputs": [
    {
     "data": {
      "text/plain": [
       "('Based on sentiment analysis of the response, it looks like a negative response with polarity of -0.05',\n",
       " 'No')"
      ]
     },
     "execution_count": 59,
     "metadata": {},
     "output_type": "execute_result"
    }
   ],
   "source": [
    "final_data.iloc[2,1:]['sentiment_of_match']#.iloc[1]\n",
    "#**Apple shares rise after strong quarterly results**"
   ]
  },
  {
   "cell_type": "code",
   "execution_count": 22,
   "id": "996c1146",
   "metadata": {},
   "outputs": [],
   "source": [
    "final_data.iloc[1,0]='Amazon'"
   ]
  },
  {
   "cell_type": "code",
   "execution_count": 23,
   "id": "4f3c894a",
   "metadata": {
    "scrolled": true
   },
   "outputs": [],
   "source": [
    "final_data.iloc[1,1:]=complete_process('Amazon','March 29 2022,July 31 2023,November 2 ,2020, January 5 2023')"
   ]
  },
  {
   "cell_type": "code",
   "execution_count": 12,
   "id": "807adcf9",
   "metadata": {},
   "outputs": [],
   "source": [
    "final_data.iloc[2,0]='Tesla'"
   ]
  },
  {
   "cell_type": "code",
   "execution_count": 45,
   "id": "fab598ab",
   "metadata": {
    "scrolled": true
   },
   "outputs": [],
   "source": [
    "final_data.iloc[2,1:]=complete_process('Tesla',' November 4 2021,April 4 2022,Friday October 30 2020,Tuesday January 3 2023')"
   ]
  },
  {
   "cell_type": "code",
   "execution_count": 24,
   "id": "27bd8731",
   "metadata": {},
   "outputs": [],
   "source": [
    "final_data.iloc[3,0]='Meta'"
   ]
  },
  {
   "cell_type": "code",
   "execution_count": 29,
   "id": "a3686cfb",
   "metadata": {},
   "outputs": [],
   "source": [
    "final_data.iloc[3,1:]=complete_process('Meta','9/7/21,7/28/23,11/2/22,3/11/22')"
   ]
  },
  {
   "cell_type": "code",
   "execution_count": 26,
   "id": "8121906c",
   "metadata": {},
   "outputs": [],
   "source": [
    "final_data.iloc[4,0]='Pfizer'"
   ]
  },
  {
   "cell_type": "code",
   "execution_count": 27,
   "id": "667d890c",
   "metadata": {
    "scrolled": true
   },
   "outputs": [],
   "source": [
    "final_data.iloc[4,1:]=complete_process('Pzifer','November 9 2020 - November 25 2020,November 2 2021 - November 5 2021, \\\n",
    "May 22 2023 - May 31 2023')"
   ]
  },
  {
   "cell_type": "code",
   "execution_count": 30,
   "id": "e79cf16b",
   "metadata": {},
   "outputs": [],
   "source": [
    "final_data.iloc[5,0]='Moderna'"
   ]
  },
  {
   "cell_type": "code",
   "execution_count": 31,
   "id": "49487229",
   "metadata": {},
   "outputs": [],
   "source": [
    "final_data.iloc[5,1:]=complete_process('Moderna','June 18 2021 - July 28 2021,November 11 2021 - November 29 2021, \\\n",
    "January 10 2022 - January 27 2022')"
   ]
  },
  {
   "cell_type": "code",
   "execution_count": 32,
   "id": "27e2fb8b",
   "metadata": {},
   "outputs": [],
   "source": [
    "final_data.iloc[6,0]='ExxonMobil'\n",
    "\n",
    "final_data.iloc[6,1:]=complete_process('ExxonMobil','December 20 2021 - February 7 2022,June 8 2022 - July 14 2022,\\\n",
    "March 17 2023 - April 28 2023')"
   ]
  },
  {
   "cell_type": "code",
   "execution_count": 34,
   "id": "f21c0845",
   "metadata": {},
   "outputs": [],
   "source": [
    "final_data.to_csv(\"exp_mini1.csv\")"
   ]
  },
  {
   "cell_type": "code",
   "execution_count": 19,
   "id": "efcd839c",
   "metadata": {},
   "outputs": [
    {
     "data": {
      "text/plain": [
       "\"Tesla shares fall after CEO Elon Musk says he's terminating Twitter deal\""
      ]
     },
     "execution_count": 19,
     "metadata": {},
     "output_type": "execute_result"
    }
   ],
   "source": [
    "final_data.iloc[2]['Latest_news']"
   ]
  },
  {
   "cell_type": "code",
   "execution_count": 43,
   "id": "65865713",
   "metadata": {},
   "outputs": [],
   "source": [
    "final_data['Investment']=[10,10,-5,-5,10,14,-5]\n",
    "#['Yes','Yes','No','No','Yes','Yes','No']#"
   ]
  },
  {
   "cell_type": "code",
   "execution_count": 45,
   "id": "b48b11e7",
   "metadata": {},
   "outputs": [
    {
     "data": {
      "text/plain": [
       "<function matplotlib.pyplot.show(close=None, block=None)>"
      ]
     },
     "execution_count": 45,
     "metadata": {},
     "output_type": "execute_result"
    },
    {
     "data": {
      "image/png": "[encoded data removed]",
      "text/plain": [
       "<Figure size 640x480 with 1 Axes>"
      ]
     },
     "metadata": {},
     "output_type": "display_data"
    }
   ],
   "source": [
    "import matplotlib.pyplot as plt\n",
    "fig, ax = plt.subplots()\n",
    "\n",
    "ax.bar(final_data[final_data['Investment']>0]['Company_name'],final_data[final_data['Investment']>0]['Investment'], color='green', alpha=0.8)\n",
    "\n",
    "ax.bar(final_data[final_data['Investment']<0]['Company_name'],final_data[final_data['Investment']<0]['Investment'], color='red', alpha=0.8)\n",
    "ax.set_title('Investment Portfolio')\n",
    "ax.set_xlabel('Company Names')\n",
    "ax.set_ylabel('Investment return(in Percentage)')\n",
    "plt.show"
   ]
  },
  {
   "cell_type": "code",
   "execution_count": null,
   "id": "4783fbb3",
   "metadata": {},
   "outputs": [],
   "source": [
    "import wordcloud\n",
    "wordcloud = wordcloud.WordCloud(background_color='white')\n",
    "wordcloud.generate(final_data.iloc[2]['Latest_news'])\n",
    "wordcloud.to_file('tesla.png')\n"
   ]
  },
  {
   "cell_type": "code",
   "execution_count": null,
   "id": "47b8931a",
   "metadata": {},
   "outputs": [],
   "source": []
  }
 ],
 "metadata": {
  "kernelspec": {
   "display_name": "Python 3 (ipykernel)",
   "language": "python",
   "name": "python3"
  },
  "language_info": {
   "codemirror_mode": {
    "name": "ipython",
    "version": 3
   },
   "file_extension": ".py",
   "mimetype": "text/x-python",
   "name": "python",
   "nbconvert_exporter": "python",
   "pygments_lexer": "ipython3",
   "version": "3.11.4"
  }
 },
 "nbformat": 4,
 "nbformat_minor": 5
}
